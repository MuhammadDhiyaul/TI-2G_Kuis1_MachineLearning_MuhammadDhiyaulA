{
  "nbformat": 4,
  "nbformat_minor": 0,
  "metadata": {
    "colab": {
      "name": "TI-2G_Kuis1_MuhammadDhiyaulAuliya.ipynb",
      "provenance": [],
      "authorship_tag": "ABX9TyMFsFWy8QKSocUsqYRI46Ya"
    },
    "kernelspec": {
      "name": "python3",
      "display_name": "Python 3"
    }
  },
  "cells": [
    {
      "cell_type": "code",
      "metadata": {
        "colab": {
          "base_uri": "https://localhost:8080/",
          "height": 312
        },
        "id": "V7-LnS7hiMMf",
        "outputId": "feb1760a-7c8d-427a-da20-4b3b0830ea3b"
      },
      "source": [
        "from random import seed\r\n",
        "import matplotlib.pyplot as plt\r\n",
        "from random import randrange\r\n",
        "from csv import reader\r\n",
        "from math import sqrt\r\n",
        "\r\n",
        "# Load a CSV file\r\n",
        "def load_csv(filename):\r\n",
        "  dataset = list()\r\n",
        "  with open(filename, 'r') as file:\r\n",
        "    next(file)\r\n",
        "    csv_reader = reader(file)\r\n",
        "    for row in csv_reader:\r\n",
        "      if not row:\r\n",
        "        continue\r\n",
        "      dataset.append(row)\r\n",
        "  return dataset\r\n",
        "\r\n",
        "# Convert string column to float\r\n",
        "def str_column_to_float(dataset, column):\r\n",
        "  for row in dataset:\r\n",
        "    row[column] = float(row[column].strip())\r\n",
        "\r\n",
        "# Evaluate an algorithm using a train/test split\r\n",
        "def evaluate_algorithm(dataset, algorithm, split, *args):\r\n",
        "  train, test = train_test_split(dataset, split)\r\n",
        "  test_set = list()\r\n",
        "  for row in test:\r\n",
        "    row_copy = list(row)\r\n",
        "    row_copy[-1] =  None\r\n",
        "    test_set.append(row_copy)\r\n",
        "  predicted = algorithm(train, test_set, *args)\r\n",
        "  actual = [row[-1] for row in test]\r\n",
        "\r\n",
        "  x_train = [row[0] for row in test]\r\n",
        "  y_train = [row[1] for row in test]\r\n",
        "  # y_predicted = [row[0] for row in predicted]\r\n",
        "  plt.scatter(x_train, y_train, color = 'red')\r\n",
        "  plt.plot(x_train, predicted, color = 'blue')\r\n",
        "  plt.title('Total payment for all claims vs no of claims (Training Set)')\r\n",
        "  plt.xlabel('no of claims')\r\n",
        "  plt.ylabel('total payment for all claims')\r\n",
        "  plt.show()\r\n",
        "\r\n",
        "  rmse = rmse_metric(actual, predicted)\r\n",
        "  return rmse\r\n",
        "\r\n",
        "# Split a dataset into a train and test set\r\n",
        "def train_test_split(dataset, split):\r\n",
        "  train = list()\r\n",
        "  train_size = split * len(dataset)\r\n",
        "  dataset_copy = list(dataset)\r\n",
        "  # print(`len(dataset)=%s; train_size=%s; len(dataset_copy)=%s` % (len(dataset), train_size, len(dataset_copy)))\r\n",
        "  while len(train) < train_size:\r\n",
        "    index = randrange(len(dataset_copy))\r\n",
        "    train.append(dataset_copy.pop(index))\r\n",
        "  return train, dataset_copy\r\n",
        "\r\n",
        "# Simple linear regression algorithm\r\n",
        "def simple_linear_regression(train, test):\r\n",
        "  predictions = list()\r\n",
        "  b0, b1 = coefficients(train)\r\n",
        "  for row in test:\r\n",
        "    yhat = b0 + b1 * row[0]\r\n",
        "    predictions.append(yhat)\r\n",
        "  return predictions\r\n",
        "\r\n",
        "# Calculate coefficients\r\n",
        "def coefficients(dataset):\r\n",
        "  x = [row[0] for row in dataset]\r\n",
        "  y = [row[1] for row in dataset]\r\n",
        "  x_mean, y_mean = mean(x), mean(y)\r\n",
        "  b1 = covariance(x, x_mean, y, y_mean) / variance(x, x_mean)\r\n",
        "  b0 = y_mean - b1 * x_mean\r\n",
        "  return [b0, b1]\r\n",
        "\r\n",
        "# Calculate the mean value of a list of numbers\r\n",
        "def mean(values):\r\n",
        "  return sum(values) / float(len(values))\r\n",
        "\r\n",
        "# Calculate covarience between x and y\r\n",
        "def covariance(x, mean_x, y, mean_y):\r\n",
        "  covar = 0.0\r\n",
        "  for i in range(len(x)):\r\n",
        "    covar += (x[i] - mean_x) * (y[i] - mean_y)\r\n",
        "  return covar\r\n",
        "\r\n",
        "# Calculate the variance of a list of numbers\r\n",
        "def variance(values, mean):\r\n",
        "  return sum([(x-mean)**2 for x in values])\r\n",
        "\r\n",
        "# Calculate root mean squared error\r\n",
        "def rmse_metric(actual, predicted):\r\n",
        "  sum_error = 0.0\r\n",
        "  for i in range(len(actual)):\r\n",
        "    prediction_error = predicted[i] - actual[i]\r\n",
        "    sum_error += (prediction_error ** 2)\r\n",
        "  mean_error = sum_error / float(len(actual))\r\n",
        "  return sqrt(mean_error)\r\n",
        "\r\n",
        "# Load and prepare data\r\n",
        "filename = 'insurance.csv'\r\n",
        "dataset = load_csv(filename)\r\n",
        "\r\n",
        "for i in range(len(dataset[0])):\r\n",
        "  str_column_to_float(dataset, i)\r\n",
        "#print(dataset)\r\n",
        "\r\n",
        "split = 0.6\r\n",
        "rmse = evaluate_algorithm(dataset, simple_linear_regression, split)\r\n",
        "print('RMSE: %.3f' % (rmse))"
      ],
      "execution_count": null,
      "outputs": [
        {
          "output_type": "display_data",
          "data": {
            "image/png": "[encoded data removed]",
            "text/plain": [
              "<Figure size 432x288 with 1 Axes>"
            ]
          },
          "metadata": {
            "tags": [],
            "needs_background": "light"
          }
        },
        {
          "output_type": "stream",
          "text": [
            "RMSE: 39.689\n"
          ],
          "name": "stdout"
        }
      ]
    }
  ]
}